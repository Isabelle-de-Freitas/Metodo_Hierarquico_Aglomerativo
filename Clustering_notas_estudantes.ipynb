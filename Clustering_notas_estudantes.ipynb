{
 "cells": [
  {
   "cell_type": "markdown",
   "metadata": {},
   "source": [
    "# Método Hierárquico Aglomerativo"
   ]
  },
  {
   "cell_type": "markdown",
   "metadata": {},
   "source": [
    "## Contexto"
   ]
  },
  {
   "cell_type": "markdown",
   "metadata": {},
   "source": [
    "Faremos um estudo sobre um pequeno conjunto de dados, utilizando a técnica não supervisionada de clustering: Associação Hierárquica Aglomerativa.\n",
    "\n",
    "Esse método consiste em agrupar as observações em grupos homogêneos internamente e heterogêneos entre si. É uma análise de agrupamentos que se caracteriza por ser exploratória, de modo que não tem caráter preditivo para observações de fora da amostra. Nesse caso, queremos investigar a interdependência entre as variáveis para, assim, criarmos os grupos (clusters).\n",
    "\n",
    "Nessa técnica, a quantidade de clusters é definida ao longo da análise, seguindo um passo a passo.\n",
    "\n",
    "Os dados que serão trabalhados são sobre as notas (de 0 a 10) de cinco estudantes em três disciplinas: matemática, física e química. Essas notas são provenientes de um vestibular, no qual um professor de uma faculdade está interessado com a capacidade de aprendizado dos alunos. O objetivo é alocá-los em grupos com a maior homogeneidade possível."
   ]
  },
  {
   "cell_type": "markdown",
   "metadata": {},
   "source": [
    "## Importação de bibliotecas e pacotes"
   ]
  },
  {
   "cell_type": "code",
   "execution_count": 47,
   "metadata": {},
   "outputs": [],
   "source": [
    "# Importando os pacotes necessários\n",
    "import pandas as pd\n",
    "import matplotlib.pyplot as plt\n",
    "import seaborn as sns\n",
    "import scipy.cluster.hierarchy as sch\n",
    "import scipy.stats as stats\n",
    "import pingouin as pg\n",
    "import plotly.express as px \n",
    "import plotly.io as pio\n",
    "pio.renderers.default='browser'\n",
    "\n",
    "from scipy.stats import zscore\n",
    "from scipy.spatial.distance import pdist\n",
    "from sklearn.cluster import AgglomerativeClustering"
   ]
  },
  {
   "cell_type": "markdown",
   "metadata": {},
   "source": [
    "## Leitura dos dados"
   ]
  },
  {
   "cell_type": "code",
   "execution_count": 48,
   "metadata": {},
   "outputs": [],
   "source": [
    "# Importando o banco de dados\n",
    "dados_notas = pd.read_excel('notas.xlsx')"
   ]
  },
  {
   "cell_type": "markdown",
   "metadata": {},
   "source": [
    "**Fonte:** livro \"Manual de Análise de Dados: Estatística e Machine Learning com Excel, SPSS, Stata, R e Python\", dos autores Luiz Paulo Fávero e Patrícia Belfiore, 2024, Capítulo 9."
   ]
  },
  {
   "cell_type": "markdown",
   "metadata": {},
   "source": [
    "## Análise descritiva"
   ]
  },
  {
   "cell_type": "markdown",
   "metadata": {},
   "source": [
    "Nessa etapa, iremos estudar os dados através de resumos."
   ]
  },
  {
   "cell_type": "code",
   "execution_count": null,
   "metadata": {},
   "outputs": [
    {
     "data": {
      "text/html": [
       "<div>\n",
       "<style scoped>\n",
       "    .dataframe tbody tr th:only-of-type {\n",
       "        vertical-align: middle;\n",
       "    }\n",
       "\n",
       "    .dataframe tbody tr th {\n",
       "        vertical-align: top;\n",
       "    }\n",
       "\n",
       "    .dataframe thead th {\n",
       "        text-align: right;\n",
       "    }\n",
       "</style>\n",
       "<table border=\"1\" class=\"dataframe\">\n",
       "  <thead>\n",
       "    <tr style=\"text-align: right;\">\n",
       "      <th></th>\n",
       "      <th>estudante</th>\n",
       "      <th>matemática</th>\n",
       "      <th>física</th>\n",
       "      <th>química</th>\n",
       "    </tr>\n",
       "  </thead>\n",
       "  <tbody>\n",
       "    <tr>\n",
       "      <th>0</th>\n",
       "      <td>Gabriela</td>\n",
       "      <td>3.7</td>\n",
       "      <td>2.7</td>\n",
       "      <td>9.1</td>\n",
       "    </tr>\n",
       "    <tr>\n",
       "      <th>1</th>\n",
       "      <td>Luiz Felipe</td>\n",
       "      <td>7.8</td>\n",
       "      <td>8.0</td>\n",
       "      <td>1.5</td>\n",
       "    </tr>\n",
       "    <tr>\n",
       "      <th>2</th>\n",
       "      <td>Patrícia</td>\n",
       "      <td>8.9</td>\n",
       "      <td>1.0</td>\n",
       "      <td>2.7</td>\n",
       "    </tr>\n",
       "    <tr>\n",
       "      <th>3</th>\n",
       "      <td>Ovídio</td>\n",
       "      <td>7.0</td>\n",
       "      <td>1.0</td>\n",
       "      <td>9.0</td>\n",
       "    </tr>\n",
       "    <tr>\n",
       "      <th>4</th>\n",
       "      <td>Leonor</td>\n",
       "      <td>3.4</td>\n",
       "      <td>2.0</td>\n",
       "      <td>5.0</td>\n",
       "    </tr>\n",
       "  </tbody>\n",
       "</table>\n",
       "</div>"
      ],
      "text/plain": [
       "     estudante  matemática  física  química\n",
       "0     Gabriela         3.7     2.7      9.1\n",
       "1  Luiz Felipe         7.8     8.0      1.5\n",
       "2     Patrícia         8.9     1.0      2.7\n",
       "3       Ovídio         7.0     1.0      9.0\n",
       "4       Leonor         3.4     2.0      5.0"
      ]
     },
     "execution_count": 49,
     "metadata": {},
     "output_type": "execute_result"
    }
   ],
   "source": [
    "# Visualização das primeiras linhas \n",
    "dados_notas.head()"
   ]
  },
  {
   "cell_type": "code",
   "execution_count": 50,
   "metadata": {},
   "outputs": [
    {
     "data": {
      "text/plain": [
       "(5, 4)"
      ]
     },
     "execution_count": 50,
     "metadata": {},
     "output_type": "execute_result"
    }
   ],
   "source": [
    "# Verificando a dimensão dos dados\n",
    "dados_notas.shape"
   ]
  },
  {
   "cell_type": "code",
   "execution_count": 51,
   "metadata": {},
   "outputs": [
    {
     "data": {
      "text/plain": [
       "estudante      object\n",
       "matemática    float64\n",
       "física        float64\n",
       "química       float64\n",
       "dtype: object"
      ]
     },
     "execution_count": 51,
     "metadata": {},
     "output_type": "execute_result"
    }
   ],
   "source": [
    "# Tipos de cada variável\n",
    "dados_notas.dtypes"
   ]
  },
  {
   "cell_type": "markdown",
   "metadata": {},
   "source": [
    "Podemos observar que temos 5 observações e 4 variáveis, sendo uma qualitativa (\"estudante\") e, as demais, numéricas. "
   ]
  },
  {
   "cell_type": "code",
   "execution_count": 52,
   "metadata": {},
   "outputs": [
    {
     "data": {
      "text/html": [
       "<div>\n",
       "<style scoped>\n",
       "    .dataframe tbody tr th:only-of-type {\n",
       "        vertical-align: middle;\n",
       "    }\n",
       "\n",
       "    .dataframe tbody tr th {\n",
       "        vertical-align: top;\n",
       "    }\n",
       "\n",
       "    .dataframe thead th {\n",
       "        text-align: right;\n",
       "    }\n",
       "</style>\n",
       "<table border=\"1\" class=\"dataframe\">\n",
       "  <thead>\n",
       "    <tr style=\"text-align: right;\">\n",
       "      <th></th>\n",
       "      <th>matemática</th>\n",
       "      <th>física</th>\n",
       "      <th>química</th>\n",
       "    </tr>\n",
       "  </thead>\n",
       "  <tbody>\n",
       "    <tr>\n",
       "      <th>count</th>\n",
       "      <td>5.000000</td>\n",
       "      <td>5.000000</td>\n",
       "      <td>5.000000</td>\n",
       "    </tr>\n",
       "    <tr>\n",
       "      <th>mean</th>\n",
       "      <td>6.160000</td>\n",
       "      <td>2.940000</td>\n",
       "      <td>5.460000</td>\n",
       "    </tr>\n",
       "    <tr>\n",
       "      <th>std</th>\n",
       "      <td>2.478508</td>\n",
       "      <td>2.918561</td>\n",
       "      <td>3.510413</td>\n",
       "    </tr>\n",
       "    <tr>\n",
       "      <th>min</th>\n",
       "      <td>3.400000</td>\n",
       "      <td>1.000000</td>\n",
       "      <td>1.500000</td>\n",
       "    </tr>\n",
       "    <tr>\n",
       "      <th>25%</th>\n",
       "      <td>3.700000</td>\n",
       "      <td>1.000000</td>\n",
       "      <td>2.700000</td>\n",
       "    </tr>\n",
       "    <tr>\n",
       "      <th>50%</th>\n",
       "      <td>7.000000</td>\n",
       "      <td>2.000000</td>\n",
       "      <td>5.000000</td>\n",
       "    </tr>\n",
       "    <tr>\n",
       "      <th>75%</th>\n",
       "      <td>7.800000</td>\n",
       "      <td>2.700000</td>\n",
       "      <td>9.000000</td>\n",
       "    </tr>\n",
       "    <tr>\n",
       "      <th>max</th>\n",
       "      <td>8.900000</td>\n",
       "      <td>8.000000</td>\n",
       "      <td>9.100000</td>\n",
       "    </tr>\n",
       "  </tbody>\n",
       "</table>\n",
       "</div>"
      ],
      "text/plain": [
       "       matemática    física   química\n",
       "count    5.000000  5.000000  5.000000\n",
       "mean     6.160000  2.940000  5.460000\n",
       "std      2.478508  2.918561  3.510413\n",
       "min      3.400000  1.000000  1.500000\n",
       "25%      3.700000  1.000000  2.700000\n",
       "50%      7.000000  2.000000  5.000000\n",
       "75%      7.800000  2.700000  9.000000\n",
       "max      8.900000  8.000000  9.100000"
      ]
     },
     "execution_count": 52,
     "metadata": {},
     "output_type": "execute_result"
    }
   ],
   "source": [
    "# Estatísticas descritivas das variáveis\n",
    "dados_notas.describe()"
   ]
  },
  {
   "cell_type": "markdown",
   "metadata": {},
   "source": [
    "Vale lembrar que as variáveis estão na mesma escala (de 0 a 10), não precisando fazer nenhum tipo de tratamento. Caso não estivessem na mesma escala, seria necessário realizar o processo de padronização pelo procedimento $Z_{scores}$ para então começar a análise de cluster. Esse mecanismo visa tornar as variáveis com média igual e zero e desvio padrão igual a um, através da seguinte fórmula:\n",
    "\n",
    "$ZX_{ji} = \\frac{X_{ji} - \\bar{X}}{S_j},$\n",
    "\n",
    "isto é, a observação menos a média da sua coluna, dividido pelo desvio padrão da coluna. Portanto, seriam utilizados os seguintes comandos:"
   ]
  },
  {
   "cell_type": "code",
   "execution_count": 53,
   "metadata": {},
   "outputs": [
    {
     "name": "stdout",
     "output_type": "stream",
     "text": [
      "   matemática    física   química\n",
      "0   -0.992533 -0.082232  1.036915\n",
      "1    0.661689  1.733731 -1.128072\n",
      "2    1.105504 -0.664711 -0.786232\n",
      "3    0.338914 -0.664711  1.008428\n",
      "4   -1.113573 -0.322076 -0.131039\n",
      "\n",
      "matemática    0.0\n",
      "física        0.0\n",
      "química       0.0\n",
      "dtype: float64\n",
      "\n",
      "matemática    1.0\n",
      "física        1.0\n",
      "química       1.0\n",
      "dtype: float64\n"
     ]
    }
   ],
   "source": [
    "# Selecionado apenas variáveis métricas\n",
    "notas = dados_notas.drop(columns=['estudante'])\n",
    "\n",
    "# Aplicando o procedimento de ZScore\n",
    "notas_padronizadas = notas.apply(zscore, ddof=1) # ddof=1 é para utilizar o desvio padrão amostral\n",
    "print(notas_padronizadas)\n",
    "print(\"\")\n",
    "\n",
    "# Visualizando o resultado do procedimento (média e desvio padrão)\n",
    "print(round(notas_padronizadas.mean(), 2))\n",
    "print(\"\")\n",
    "print(round(notas_padronizadas.std(), 2))"
   ]
  },
  {
   "cell_type": "markdown",
   "metadata": {},
   "source": [
    "Notamos que todas as variáveis métricas ficaram com média igual a zero e desvio padrão igual a um.\n",
    "\n",
    "Todavia, podemos plotar um gráfico boxplot, evidenciando que as variáveis originais (sem a normalização) já estão na mesma escala."
   ]
  },
  {
   "cell_type": "code",
   "execution_count": 54,
   "metadata": {},
   "outputs": [
    {
     "data": {
      "image/png": "[encoded data removed]",
      "text/plain": [
       "<Figure size 500x400 with 1 Axes>"
      ]
     },
     "metadata": {},
     "output_type": "display_data"
    }
   ],
   "source": [
    "# Boxplot com as três variáveis originais\n",
    "plt.figure(figsize=(5,4))\n",
    "sns.boxplot(x='variable', y='value', data=pd.melt(notas))\n",
    "plt.ylabel('Valores', fontsize=12)\n",
    "plt.xlabel('Variáveis', fontsize=12)\n",
    "plt.show()"
   ]
  },
  {
   "cell_type": "markdown",
   "metadata": {},
   "source": [
    "Agora, como temos três variáveis, podemos plotar um gráfico em três dimensões para observarmos a disposição das observações:"
   ]
  },
  {
   "cell_type": "code",
   "execution_count": 55,
   "metadata": {},
   "outputs": [],
   "source": [
    "# Gráfico 3D das observações\n",
    "fig = px.scatter_3d(dados_notas, \n",
    "                    x='matemática', \n",
    "                    y='química', \n",
    "                    z='física',\n",
    "                    text=dados_notas.estudante)\n",
    "fig.show()\n",
    "# Como estamos usando o plotly, o gráfico é mostrado no browser"
   ]
  },
  {
   "cell_type": "markdown",
   "metadata": {},
   "source": [
    "## Método Hierárquico Aglomerativo"
   ]
  },
  {
   "cell_type": "markdown",
   "metadata": {},
   "source": [
    "Para aplicarmos a Análise de Cluster Hierárquica, devemos escolher uma medida de distância (dissimilaridade), que é a distância entre as observações. Isso é realizado para sabermos o quão são diferentes as observações entre si. Essas medidas podem ser:\n",
    "\n",
    "* Euclidiana: $d_{pq} = \\sqrt{\\sum^k_{j=1}(ZX_{jp} - ZX_{jq})^2}$\n",
    "\n",
    "* Euclidiana quadrática: $d_{pq} = \\sum^k_{j=1}(ZX_{jp} - ZX_{jq})^2$\n",
    "\n",
    "* Manhattan (City Block): $d_{pq} = \\sum^k_{j=1}|ZX_{jp} - ZX_{jq}|$\n",
    "\n",
    "* Minkowski: $d_{pq} = \\left[\\sum^k_{j=1}(|ZX_{jp} - ZX_{jq}|)^m\\right]^{\\frac{1}{m}}$\n",
    "\n",
    "* Chebychev: $d_{pq} = max|ZX_{jp} - ZX_{jq}|$\n",
    "\n",
    "Além disso, também escolhemos qual método de encadeamento deve ser usado. Esse processo indica qual distância aplicar quando já existem clusters formados durante os estágios aglomerativos.\n",
    "\n",
    "Temos três tipos de métodos que podem ser aplicados:\n",
    "\n",
    "* **Nearest neighbor (single linkage):** considera as menores distâncias. Recomendado para observações distintas.\n",
    "\n",
    "* **Furthest neighbor (complete linkage):** considera as maiores distâncias. Recomendado para observações parecidas.\n",
    "\n",
    "* **Between groups (average linkage):** junção de grupos pela distância média entre todos os pares de observações.\n",
    "\n",
    "Logo, na técnica hierárquica aglomerativa, temos o propósito de juntar em um único cluster as observações inicialmente separadas. Assim, seguimos o seguinte passo a passo:\n",
    "\n",
    "1. Inicia-se no **estágio 0**, em que, se $n$ observações são consideradas, começamos com $n$ clusters (todas observações separadas);\n",
    "2. Une-se as duas observações com **menor distância**, ou seja, ficamos com $n-1$ clusters;\n",
    "3. Na sequência, encontram-se duas novas observações com a menor distância;\n",
    "4. Repete-se a etapa anterior $n-1$ vezes até restar 1 cluster (todas observações juntas - **último estágio**);\n",
    "5. Por último, faz-se o **dendrograma** (gráfico para visualizar esses clusters).\n",
    "\n",
    "Feito o dendrograma, devemos escolher a quantidade de clusters que vamos considerar no estudo. Como critério, pode-se adotar o tamanho dos saltos de distância para a aglomeração posterior. É importante comparar dendrogramas que foram obtidos por diferentes métodos de encadeamento."
   ]
  },
  {
   "cell_type": "markdown",
   "metadata": {},
   "source": [
    "### 1. Cluster Hierárquico Aglomerativo\n",
    "\n",
    "* Distância: Euclidiana;\n",
    "* Método de encadeamento: Single Linkage."
   ]
  },
  {
   "cell_type": "code",
   "execution_count": 56,
   "metadata": {},
   "outputs": [
    {
     "data": {
      "text/plain": [
       "array([10.13212712,  8.41961994,  3.71348893,  4.17013189,  7.18679344,\n",
       "       10.29028668,  8.22253002,  6.58027355,  6.0448325 ,  5.47357287])"
      ]
     },
     "execution_count": 56,
     "metadata": {},
     "output_type": "execute_result"
    }
   ],
   "source": [
    "# Visualizando as distâncias\n",
    "dist_euclidiana = pdist(notas, metric='euclidean')\n",
    "dist_euclidiana"
   ]
  },
  {
   "cell_type": "code",
   "execution_count": 57,
   "metadata": {},
   "outputs": [
    {
     "data": {
      "image/png": "[encoded data removed]",
      "text/plain": [
       "<Figure size 700x400 with 1 Axes>"
      ]
     },
     "metadata": {},
     "output_type": "display_data"
    }
   ],
   "source": [
    "# Gerando o dendrograma para visualização dos clusters\n",
    "plt.figure(figsize=(7,4))\n",
    "# Gerando o padrão de aglomeração - Single Linkage:\n",
    "aglom_single_euclid = sch.linkage(notas, method = 'single', metric = 'euclidean')\n",
    "# Dendrograma de acordo com a aglomeração acima estabelecida:\n",
    "dendogram_single_euclid = sch.dendrogram(aglom_single_euclid, labels = list(dados_notas.estudante))\n",
    "plt.title('Dendrograma - Método Single Linkage', fontsize=14)\n",
    "plt.xlabel('Estudantes', fontsize=11)\n",
    "plt.ylabel('Distância Euclidiana', fontsize=11)\n",
    "plt.show()"
   ]
  },
  {
   "cell_type": "markdown",
   "metadata": {},
   "source": [
    "Com base no dendrograma acima, temos no eixo $y$ as distâncias euclidianas, mostrando onde ocorreram as uniões. Sendo assim, os estudantes Grabriela e Ovídio formam o primeiro cluster (com Luiz Felipe, Patrícia e Leonor sendo observações individuais), pois possuem a menor distância entre os pares de observações. Em seguida, a Leonor foi adicionada nesse primeiro cluster, formando o segundo cluster. Depois, a Patrícia foi inserida e, por último, o Luiz Felipe.\n",
    "\n",
    "Tendo isso em vista, escolhemos a quantidade de clusters com base na **maior** distância (salto) entre um cluster e outro, ou seja, encontramos a maior \"altura\" (em termos de distância) a fim de \"encerrar\" o processo de clusterização. Observamos que, ao incluir a Leonor no primeiro cluster, houve um pequeno salto. Isso significa que a Leonor não é muito diferente da Gabriela e do Ovídio.\n",
    "\n",
    "Contudo, ao adicionar a Patrícia ao cluster anterior, tivemos um grande salto de distância. Isso indica que incluímos uma observação um pouco mais distinta; ela não se assemelha aos demais. Para adicionar o Luiz Felipe, tivemos um salto mediano. Portanto, para escolhermos a quantidade de clusters, evitamos os saltos de distâncias mais elevados. Podemos traçar uma linha na horizontal evidenciando o corte a ser realizado."
   ]
  },
  {
   "cell_type": "code",
   "execution_count": 58,
   "metadata": {},
   "outputs": [
    {
     "data": {
      "image/png": "[encoded data removed]",
      "text/plain": [
       "<Figure size 700x400 with 1 Axes>"
      ]
     },
     "metadata": {},
     "output_type": "display_data"
    }
   ],
   "source": [
    "# Gerando o mesmo dendrograma acima com a linha de corte\n",
    "plt.figure(figsize=(7,4))\n",
    "aglom_single_euclid = sch.linkage(notas, method = 'single', metric = 'euclidean')\n",
    "dendrogram_single_euclid = sch.dendrogram(aglom_single_euclid, color_threshold = 4.5, labels = list(dados_notas.estudante))\n",
    "plt.title('Dendrograma - Método Single Linkage', fontsize=14)\n",
    "plt.xlabel('Estudantes', fontsize=11)\n",
    "plt.ylabel('Distância Euclidiana', fontsize=11)\n",
    "plt.axhline(y = 4.5, color = 'red', linestyle = '--') # Acrescenta uma linha vermelha de altura (distância) igual a 4.5\n",
    "# Se quisermos mudar o valor de 4.5 para outro qualquer, devemos alterar também na função \"sch.dendrogram\",\n",
    "# pois irá pintar da mesma cor as observações que estão no mesmo cluster\n",
    "plt.show()"
   ]
  },
  {
   "cell_type": "markdown",
   "metadata": {},
   "source": [
    "Dessa maneira, a altura escolhida foi de 4.5, pois é nessa parte em que ocorre o maior salto. Embora esse seja o melhor critério de separação para esse tipo de aglomeração, nada impede que consideremos outro valor para o corte. Fica a critério de quem está fazendo o estudo. \n",
    "\n",
    "Para sabermos quantos clusters foram formados, basta contar quantas vezes a linha vermelha (horizontal) corta as linhas verticais. Então, nesse caso, temos três clusters, sendo eles:\n",
    "\n",
    "* Luiz Felipe (cluster 1);\n",
    "* Patrícia (cluster 2);\n",
    "* Leonor, Gabriela e Ovídio (cluster 3).\n",
    "\n",
    "Após esse processo, é recomendado gerar no banco de dados uma variável categórica que informa qual cluster cada observação pertence. Como já obervamos e adotamos um total de três clusters no dendrograma, aplicamos a função \"AgglomerativeClustering\" com esse total de clusters. A distância e o método de encadeamento são mantidos."
   ]
  },
  {
   "cell_type": "code",
   "execution_count": 59,
   "metadata": {},
   "outputs": [
    {
     "data": {
      "text/html": [
       "<div>\n",
       "<style scoped>\n",
       "    .dataframe tbody tr th:only-of-type {\n",
       "        vertical-align: middle;\n",
       "    }\n",
       "\n",
       "    .dataframe tbody tr th {\n",
       "        vertical-align: top;\n",
       "    }\n",
       "\n",
       "    .dataframe thead th {\n",
       "        text-align: right;\n",
       "    }\n",
       "</style>\n",
       "<table border=\"1\" class=\"dataframe\">\n",
       "  <thead>\n",
       "    <tr style=\"text-align: right;\">\n",
       "      <th></th>\n",
       "      <th>estudante</th>\n",
       "      <th>matemática</th>\n",
       "      <th>física</th>\n",
       "      <th>química</th>\n",
       "      <th>cluster_single</th>\n",
       "    </tr>\n",
       "  </thead>\n",
       "  <tbody>\n",
       "    <tr>\n",
       "      <th>0</th>\n",
       "      <td>Gabriela</td>\n",
       "      <td>3.7</td>\n",
       "      <td>2.7</td>\n",
       "      <td>9.1</td>\n",
       "      <td>0</td>\n",
       "    </tr>\n",
       "    <tr>\n",
       "      <th>1</th>\n",
       "      <td>Luiz Felipe</td>\n",
       "      <td>7.8</td>\n",
       "      <td>8.0</td>\n",
       "      <td>1.5</td>\n",
       "      <td>1</td>\n",
       "    </tr>\n",
       "    <tr>\n",
       "      <th>2</th>\n",
       "      <td>Patrícia</td>\n",
       "      <td>8.9</td>\n",
       "      <td>1.0</td>\n",
       "      <td>2.7</td>\n",
       "      <td>2</td>\n",
       "    </tr>\n",
       "    <tr>\n",
       "      <th>3</th>\n",
       "      <td>Ovídio</td>\n",
       "      <td>7.0</td>\n",
       "      <td>1.0</td>\n",
       "      <td>9.0</td>\n",
       "      <td>0</td>\n",
       "    </tr>\n",
       "    <tr>\n",
       "      <th>4</th>\n",
       "      <td>Leonor</td>\n",
       "      <td>3.4</td>\n",
       "      <td>2.0</td>\n",
       "      <td>5.0</td>\n",
       "      <td>0</td>\n",
       "    </tr>\n",
       "  </tbody>\n",
       "</table>\n",
       "</div>"
      ],
      "text/plain": [
       "     estudante  matemática  física  química cluster_single\n",
       "0     Gabriela         3.7     2.7      9.1              0\n",
       "1  Luiz Felipe         7.8     8.0      1.5              1\n",
       "2     Patrícia         8.9     1.0      2.7              2\n",
       "3       Ovídio         7.0     1.0      9.0              0\n",
       "4       Leonor         3.4     2.0      5.0              0"
      ]
     },
     "execution_count": 59,
     "metadata": {},
     "output_type": "execute_result"
    }
   ],
   "source": [
    "# Gerando a variável categórica com a indicação do cluster no dataset\n",
    "cluster_single_euclid = AgglomerativeClustering(n_clusters = 3, metric = 'euclidean', linkage = 'single')\n",
    "indica_cluster_single = cluster_single_euclid.fit_predict(notas) # \"fit_predict\" prediz qual cluster a observação pertence\n",
    "dados_notas['cluster_single'] = indica_cluster_single\n",
    "dados_notas['cluster_single'] = dados_notas['cluster_single'].astype('category')\n",
    "dados_notas"
   ]
  },
  {
   "cell_type": "markdown",
   "metadata": {},
   "source": [
    "Agora, temos uma coluna a mais em relação ao banco de dados original. Cada observação foi preenchida com um número que representa seu cluster, podendo ser 0, 1 ou 2.\n",
    "\n",
    "Para fins de análise, podemos verificar os coeficientes desse dendrograma, que representam as \"alturas\" (distâncias) em que as observações foram unidas."
   ]
  },
  {
   "cell_type": "code",
   "execution_count": null,
   "metadata": {},
   "outputs": [
    {
     "data": {
      "text/plain": [
       "[3.713488925525428, 4.170131892398609, 6.044832503882965, 7.1867934435323795]"
      ]
     },
     "execution_count": 60,
     "metadata": {},
     "output_type": "execute_result"
    }
   ],
   "source": [
    "# Coeficientes do dendrograma - Single Linkage\n",
    "coef_single_euclid = [y[1] for y in dendrogram_single_euclid['dcoord']]\n",
    "coef_single_euclid"
   ]
  },
  {
   "cell_type": "markdown",
   "metadata": {},
   "source": [
    "Assim, as uniões ocorreram a uma distância de $3.71$ no estágio 1, $4.17$ no estágio 2, $6.04$ no estãgio 3 e $7.19$ no estágio 4. Nota-se que a maior diferença ocorreu entre os estágios 2 e 3."
   ]
  },
  {
   "cell_type": "markdown",
   "metadata": {},
   "source": [
    "#### Conclusão - Método Single Linkage"
   ]
  },
  {
   "cell_type": "markdown",
   "metadata": {},
   "source": [
    "De acordo com o trabalho realizado, concluímos que, ao aplicarmos o Método Hierárquico Aglomerativo com distância Euclidiana e técnica de encadeamento Single Linkage, definimos um total de três clusters.\n",
    "\n",
    "**Obs.:** esse resultado só é válido para as observações e as variáveis consideradas antes da aplicação do método. Se novas observações ou variáveis forem tanto adicionadas quanto retiradas do conjunto de dados, será necessário realizar um novo estudo, com novos agrupamentos, pois a inclusão ou exclusão de informações pode alterar a composição de cada cluster. Esse tipo de agrupamento não possui caráter preditivo."
   ]
  },
  {
   "cell_type": "markdown",
   "metadata": {},
   "source": [
    "### 2. Cluster Hierárquico Aglomerativo\n",
    "\n",
    "* Distância: Euclidiana;\n",
    "* Método de encadeamento: Complete Linkage."
   ]
  },
  {
   "cell_type": "markdown",
   "metadata": {},
   "source": [
    "As distâncias são as mesmas que foram consideradas pelo método de encadeamento Single Linkage (distância Euclidiana)."
   ]
  },
  {
   "cell_type": "code",
   "execution_count": 61,
   "metadata": {},
   "outputs": [
    {
     "data": {
      "image/png": "[encoded data removed]",
      "text/plain": [
       "<Figure size 700x400 with 1 Axes>"
      ]
     },
     "metadata": {},
     "output_type": "display_data"
    }
   ],
   "source": [
    "# Gerando o dendrograma para visualização dos clusters\n",
    "plt.figure(figsize=(7,4))\n",
    "# Gerando o padrão de aglomeração - Complete Linkage:\n",
    "aglom_complete_euclid = sch.linkage(notas, method = 'complete', metric = 'euclidean')\n",
    "# Dendrograma de acordo com a aglomeração acima estabelecida:\n",
    "dendrogram_complete_euclid = sch.dendrogram(aglom_complete_euclid, labels = list(dados_notas.estudante))\n",
    "plt.title('Dendrograma - Método Complete Linkage', fontsize=14)\n",
    "plt.xlabel('Estudantes', fontsize=11)\n",
    "plt.ylabel('Distância Euclidiana', fontsize=11)\n",
    "plt.show()"
   ]
  },
  {
   "cell_type": "markdown",
   "metadata": {},
   "source": [
    "Com base no dendrograma acima, temos no eixo $y$ as distâncias euclidianas, mostrando onde ocorreram as uniões. Da mesma maneira que o dendrograma anterior (Single Linkage), os estudantes Grabriela e Ovídio formam o primeiro cluster (com Luiz Felipe, Patrícia e Leonor sendo observações individuais). Em seguida, a Leonor foi adicionada nesse primeiro cluster, formando o segundo cluster. Depois, Patrícia e Luiz Felipe formam um cluster distinto.\n",
    "\n",
    "Logo, como a maior distância ocorre após a formação dos cluster Gabriela-Ovídio-Leonor, escolhemos a distância (altura) igual a 6, ficando com três clusters. Assim, evitamos a inclusão de grandes saltos que, consequentemente, as observações são mais distintas entre si. Podemos traçar uma linha na horizontal evidenciando o corte a ser realizado."
   ]
  },
  {
   "cell_type": "code",
   "execution_count": 62,
   "metadata": {},
   "outputs": [
    {
     "data": {
      "image/png": "[encoded data removed]",
      "text/plain": [
       "<Figure size 700x400 with 1 Axes>"
      ]
     },
     "metadata": {},
     "output_type": "display_data"
    }
   ],
   "source": [
    "# Gerando o mesmo dendrograma acima com a linha de corte\n",
    "plt.figure(figsize=(7,4))\n",
    "aglom_complete_euclid = sch.linkage(notas, method = 'complete', metric = 'euclidean')\n",
    "dendrogram_complete_euclid = sch.dendrogram(aglom_complete_euclid, color_threshold = 6, labels = list(dados_notas.estudante))\n",
    "plt.title('Dendrograma - Método Complete Linkage', fontsize=14)\n",
    "plt.xlabel('Estudantes', fontsize=11)\n",
    "plt.ylabel('Distância Euclidiana', fontsize=11)\n",
    "plt.axhline(y = 6, color = 'red', linestyle = '--') # Acrescenta uma linha vermelha de altura (distância) igual a 6\n",
    "# Se quisermos mudar o valor de 6 para outro qualquer, devemos alterar também na função \"sch.dendrogram\",\n",
    "# pois irá pintar da mesma cor as observações que estão no mesmo cluster\n",
    "plt.show()"
   ]
  },
  {
   "cell_type": "markdown",
   "metadata": {},
   "source": [
    "Portanto, com a altura igual a 6, separamos as observações em três clusters:\n",
    "\n",
    "* Leonor, Gabriela e Ovídio (cluster 1);\n",
    "* Luiz Felipe (cluster 2);\n",
    "* Patrícia (cluster 3).\n",
    "\n",
    "Embora esse seja o melhor critério de separação para esse tipo de aglomeração, seria possível considerar outro valor para o corte, por exemplo 9, no qual dividiria as observações em apenas dois clusters.\n",
    "\n",
    "Finalizada a clusterização, criaremos a variável categórica que indica qual cluster cada observação pertence."
   ]
  },
  {
   "cell_type": "code",
   "execution_count": 63,
   "metadata": {},
   "outputs": [
    {
     "data": {
      "text/html": [
       "<div>\n",
       "<style scoped>\n",
       "    .dataframe tbody tr th:only-of-type {\n",
       "        vertical-align: middle;\n",
       "    }\n",
       "\n",
       "    .dataframe tbody tr th {\n",
       "        vertical-align: top;\n",
       "    }\n",
       "\n",
       "    .dataframe thead th {\n",
       "        text-align: right;\n",
       "    }\n",
       "</style>\n",
       "<table border=\"1\" class=\"dataframe\">\n",
       "  <thead>\n",
       "    <tr style=\"text-align: right;\">\n",
       "      <th></th>\n",
       "      <th>estudante</th>\n",
       "      <th>matemática</th>\n",
       "      <th>física</th>\n",
       "      <th>química</th>\n",
       "      <th>cluster_single</th>\n",
       "      <th>cluster_complete</th>\n",
       "    </tr>\n",
       "  </thead>\n",
       "  <tbody>\n",
       "    <tr>\n",
       "      <th>0</th>\n",
       "      <td>Gabriela</td>\n",
       "      <td>3.7</td>\n",
       "      <td>2.7</td>\n",
       "      <td>9.1</td>\n",
       "      <td>0</td>\n",
       "      <td>0</td>\n",
       "    </tr>\n",
       "    <tr>\n",
       "      <th>1</th>\n",
       "      <td>Luiz Felipe</td>\n",
       "      <td>7.8</td>\n",
       "      <td>8.0</td>\n",
       "      <td>1.5</td>\n",
       "      <td>1</td>\n",
       "      <td>2</td>\n",
       "    </tr>\n",
       "    <tr>\n",
       "      <th>2</th>\n",
       "      <td>Patrícia</td>\n",
       "      <td>8.9</td>\n",
       "      <td>1.0</td>\n",
       "      <td>2.7</td>\n",
       "      <td>2</td>\n",
       "      <td>1</td>\n",
       "    </tr>\n",
       "    <tr>\n",
       "      <th>3</th>\n",
       "      <td>Ovídio</td>\n",
       "      <td>7.0</td>\n",
       "      <td>1.0</td>\n",
       "      <td>9.0</td>\n",
       "      <td>0</td>\n",
       "      <td>0</td>\n",
       "    </tr>\n",
       "    <tr>\n",
       "      <th>4</th>\n",
       "      <td>Leonor</td>\n",
       "      <td>3.4</td>\n",
       "      <td>2.0</td>\n",
       "      <td>5.0</td>\n",
       "      <td>0</td>\n",
       "      <td>0</td>\n",
       "    </tr>\n",
       "  </tbody>\n",
       "</table>\n",
       "</div>"
      ],
      "text/plain": [
       "     estudante  matemática  física  química cluster_single cluster_complete\n",
       "0     Gabriela         3.7     2.7      9.1              0                0\n",
       "1  Luiz Felipe         7.8     8.0      1.5              1                2\n",
       "2     Patrícia         8.9     1.0      2.7              2                1\n",
       "3       Ovídio         7.0     1.0      9.0              0                0\n",
       "4       Leonor         3.4     2.0      5.0              0                0"
      ]
     },
     "execution_count": 63,
     "metadata": {},
     "output_type": "execute_result"
    }
   ],
   "source": [
    "# Gerando a variável categórica com a indicação do cluster no dataset\n",
    "cluster_complete_euclid = AgglomerativeClustering(n_clusters = 3, metric = 'euclidean', linkage = 'complete')\n",
    "indica_cluster_complete = cluster_complete_euclid.fit_predict(notas)\n",
    "dados_notas['cluster_complete'] = indica_cluster_complete\n",
    "dados_notas['cluster_complete'] = dados_notas['cluster_complete'].astype('category')\n",
    "dados_notas"
   ]
  },
  {
   "cell_type": "markdown",
   "metadata": {},
   "source": [
    "Desse modo, temos mais uma coluna em relação ao banco de dados original. Cada observação foi preenchida com um número que representa seu cluster, podendo ser 0, 1 ou 2, mantendo o mesmo padrão de classificação do Single Linkage. Os números das categorias podem ser diferentes de um método de encadeamento para outro, mas o que importa é a divisão em clusters conforme o dendrograma.\n",
    "\n",
    "Como feito anteriormente, verificaremos os coeficientes desse dendrograma."
   ]
  },
  {
   "cell_type": "code",
   "execution_count": 64,
   "metadata": {},
   "outputs": [
    {
     "data": {
      "text/plain": [
       "[3.713488925525428, 5.473572873361603, 7.1867934435323795, 10.290286682109492]"
      ]
     },
     "execution_count": 64,
     "metadata": {},
     "output_type": "execute_result"
    }
   ],
   "source": [
    "# Coeficientes do dendrograma - Complete Linkage\n",
    "coef_complete_euclid = [y[1] for y in dendrogram_complete_euclid['dcoord']]\n",
    "coef_complete_euclid"
   ]
  },
  {
   "cell_type": "markdown",
   "metadata": {},
   "source": [
    "Assim, as uniões ocorreram a uma distância de $3.71$ no estágio 1, $5.47$ no estágio 2, $7.19$ no estãgio 3 e $10.29$ no estágio 4. Nota-se que a maior diferença ocorreu entre os estágios 3 e 4."
   ]
  },
  {
   "cell_type": "markdown",
   "metadata": {},
   "source": [
    "#### Conclusão - Método Complete Linkage"
   ]
  },
  {
   "cell_type": "markdown",
   "metadata": {},
   "source": [
    "Isto posto, concluímos que, ao aplicarmos o Método Hierárquico Aglomerativo com distância Euclidiana e técnica de encadeamento Complete Linkage, definimos um total de três clusters, que são os mesmos obtidos através do Single Linkage."
   ]
  },
  {
   "cell_type": "markdown",
   "metadata": {},
   "source": [
    "### 3. Cluster Hierárquico Aglomerativo\n",
    "\n",
    "* Distância: Euclidiana;\n",
    "* Método de encadeamento: Average Linkage."
   ]
  },
  {
   "cell_type": "markdown",
   "metadata": {},
   "source": [
    "As distâncias consideradas são as mesmas (Euclidiana)."
   ]
  },
  {
   "cell_type": "code",
   "execution_count": 65,
   "metadata": {},
   "outputs": [
    {
     "data": {
      "image/png": "[encoded data removed]",
      "text/plain": [
       "<Figure size 700x400 with 1 Axes>"
      ]
     },
     "metadata": {},
     "output_type": "display_data"
    }
   ],
   "source": [
    "# Gerando o dendrograma para visualização dos clusters\n",
    "plt.figure(figsize=(7,4))\n",
    "# Gerando o padrão de aglomeração - Average Linkage:\n",
    "aglom_average_euclid = sch.linkage(notas, method = 'average', metric = 'euclidean')\n",
    "# Dendrograma de acordo com a aglomeração acima estabelecida:\n",
    "dendrogram_average_euclid = sch.dendrogram(aglom_average_euclid, labels = list(dados_notas.estudante))\n",
    "plt.title('Dendrograma - Método Average Linkage', fontsize=14)\n",
    "plt.xlabel('Estudantes', fontsize=11)\n",
    "plt.ylabel('Distância Euclidiana', fontsize=11)\n",
    "plt.show()"
   ]
  },
  {
   "cell_type": "markdown",
   "metadata": {},
   "source": [
    "Da mesma forma que o dendrograma Single Linkage, o maior salto ocorre do estágio 2 para o 3, no qual Luiz Felipe forma o primeiro cluster, Patrícia o segundo e, Grabriela e Ovídio, o terceiro.\n",
    "\n",
    "Assim, como a maior distância ocorre após a formação dos cluster Gabriela-Ovídio-Leonor, escolhemos a distância (altura) igual a 6, selecionando três clusters. Como próximo passo, podemos traçar uma linha na horizontal evidenciando o corte a ser realizado."
   ]
  },
  {
   "cell_type": "code",
   "execution_count": 66,
   "metadata": {},
   "outputs": [
    {
     "data": {
      "image/png": "[encoded data removed]",
      "text/plain": [
       "<Figure size 700x400 with 1 Axes>"
      ]
     },
     "metadata": {},
     "output_type": "display_data"
    }
   ],
   "source": [
    "# Gerando o mesmo dendrograma acima com a linha de corte\n",
    "plt.figure(figsize=(7,4))\n",
    "aglom_average_euclid = sch.linkage(notas, method = 'average', metric = 'euclidean')\n",
    "dendrogram_average_euclid = sch.dendrogram(aglom_average_euclid, color_threshold = 6, labels = list(dados_notas.estudante))\n",
    "plt.title('Dendrograma - Método Average Linkage', fontsize=14)\n",
    "plt.xlabel('Estudantes', fontsize=11)\n",
    "plt.ylabel('Distância Euclidiana', fontsize=11)\n",
    "plt.axhline(y = 6, color = 'red', linestyle = '--') # Acrescenta uma linha vermelha de altura (distância) igual a 6\n",
    "# Se quisermos mudar o valor de 6 para outro qualquer, devemos alterar também na função \"sch.dendrogram\",\n",
    "# pois irá pintar da mesma cor as observações que estão no mesmo cluster\n",
    "plt.show()"
   ]
  },
  {
   "cell_type": "markdown",
   "metadata": {},
   "source": [
    "Portanto, com a altura igual a 6, separamos as observações em três clusters:\n",
    "\n",
    "* Leonor, Gabriela e Ovídio (cluster 1);\n",
    "* Patrícia (cluster 2);\n",
    "* Luiz Felipe (cluster 3).\n",
    "\n",
    "Finalizada a clusterização, criaremos a variável categórica que indica qual cluster cada observação pertence."
   ]
  },
  {
   "cell_type": "code",
   "execution_count": 67,
   "metadata": {},
   "outputs": [
    {
     "data": {
      "text/html": [
       "<div>\n",
       "<style scoped>\n",
       "    .dataframe tbody tr th:only-of-type {\n",
       "        vertical-align: middle;\n",
       "    }\n",
       "\n",
       "    .dataframe tbody tr th {\n",
       "        vertical-align: top;\n",
       "    }\n",
       "\n",
       "    .dataframe thead th {\n",
       "        text-align: right;\n",
       "    }\n",
       "</style>\n",
       "<table border=\"1\" class=\"dataframe\">\n",
       "  <thead>\n",
       "    <tr style=\"text-align: right;\">\n",
       "      <th></th>\n",
       "      <th>estudante</th>\n",
       "      <th>matemática</th>\n",
       "      <th>física</th>\n",
       "      <th>química</th>\n",
       "      <th>cluster_single</th>\n",
       "      <th>cluster_complete</th>\n",
       "      <th>cluster_average</th>\n",
       "    </tr>\n",
       "  </thead>\n",
       "  <tbody>\n",
       "    <tr>\n",
       "      <th>0</th>\n",
       "      <td>Gabriela</td>\n",
       "      <td>3.7</td>\n",
       "      <td>2.7</td>\n",
       "      <td>9.1</td>\n",
       "      <td>0</td>\n",
       "      <td>0</td>\n",
       "      <td>0</td>\n",
       "    </tr>\n",
       "    <tr>\n",
       "      <th>1</th>\n",
       "      <td>Luiz Felipe</td>\n",
       "      <td>7.8</td>\n",
       "      <td>8.0</td>\n",
       "      <td>1.5</td>\n",
       "      <td>1</td>\n",
       "      <td>2</td>\n",
       "      <td>2</td>\n",
       "    </tr>\n",
       "    <tr>\n",
       "      <th>2</th>\n",
       "      <td>Patrícia</td>\n",
       "      <td>8.9</td>\n",
       "      <td>1.0</td>\n",
       "      <td>2.7</td>\n",
       "      <td>2</td>\n",
       "      <td>1</td>\n",
       "      <td>1</td>\n",
       "    </tr>\n",
       "    <tr>\n",
       "      <th>3</th>\n",
       "      <td>Ovídio</td>\n",
       "      <td>7.0</td>\n",
       "      <td>1.0</td>\n",
       "      <td>9.0</td>\n",
       "      <td>0</td>\n",
       "      <td>0</td>\n",
       "      <td>0</td>\n",
       "    </tr>\n",
       "    <tr>\n",
       "      <th>4</th>\n",
       "      <td>Leonor</td>\n",
       "      <td>3.4</td>\n",
       "      <td>2.0</td>\n",
       "      <td>5.0</td>\n",
       "      <td>0</td>\n",
       "      <td>0</td>\n",
       "      <td>0</td>\n",
       "    </tr>\n",
       "  </tbody>\n",
       "</table>\n",
       "</div>"
      ],
      "text/plain": [
       "     estudante  matemática  física  química cluster_single cluster_complete  \\\n",
       "0     Gabriela         3.7     2.7      9.1              0                0   \n",
       "1  Luiz Felipe         7.8     8.0      1.5              1                2   \n",
       "2     Patrícia         8.9     1.0      2.7              2                1   \n",
       "3       Ovídio         7.0     1.0      9.0              0                0   \n",
       "4       Leonor         3.4     2.0      5.0              0                0   \n",
       "\n",
       "  cluster_average  \n",
       "0               0  \n",
       "1               2  \n",
       "2               1  \n",
       "3               0  \n",
       "4               0  "
      ]
     },
     "execution_count": 67,
     "metadata": {},
     "output_type": "execute_result"
    }
   ],
   "source": [
    "# Gerando a variável categórica com a indicação do cluster no dataset\n",
    "cluster_average_euclid = AgglomerativeClustering(n_clusters = 3, metric = 'euclidean', linkage = 'average')\n",
    "indica_cluster_average = cluster_average_euclid.fit_predict(notas)\n",
    "dados_notas['cluster_average'] = indica_cluster_complete\n",
    "dados_notas['cluster_average'] = dados_notas['cluster_average'].astype('category')\n",
    "dados_notas"
   ]
  },
  {
   "cell_type": "markdown",
   "metadata": {},
   "source": [
    "Com base na tabela acima, notamos que a clusterização, usando o método Average Linkage, resulta nos mesmos grupos que os demais métodos."
   ]
  },
  {
   "cell_type": "code",
   "execution_count": 68,
   "metadata": {},
   "outputs": [
    {
     "data": {
      "text/plain": [
       "[3.713488925525428, 4.821852382880106, 7.014908666114838, 8.957934317775708]"
      ]
     },
     "execution_count": 68,
     "metadata": {},
     "output_type": "execute_result"
    }
   ],
   "source": [
    "# Coeficientes do dendrograma - Average Linkage\n",
    "coef_average_euclid = [y[1] for y in dendrogram_average_euclid['dcoord']]\n",
    "coef_average_euclid"
   ]
  },
  {
   "cell_type": "markdown",
   "metadata": {},
   "source": [
    "Dessa forma, as uniões ocorreram a uma distância de $3.71$ no estágio 1, $4.82$ no estágio 2, $7.01$ no estãgio 3 e $8.96$ no estágio 4. Nota-se que a maior diferença ocorreu entre os estágios 2 e 3.\n",
    "\n",
    "**Obs.:** a menor distância é sempre a mesma, independente do método de encadeamento."
   ]
  },
  {
   "cell_type": "markdown",
   "metadata": {},
   "source": [
    "#### Conclusão - Método Average Linkage"
   ]
  },
  {
   "cell_type": "markdown",
   "metadata": {},
   "source": [
    "À vista disso, concluímos que, ao aplicarmos o Método Hierárquico Aglomerativo com distância Euclidiana e técnica de encadeamento Average Linkage, definimos um total de três clusters, que são os mesmos obtidos através do Single Linkage e do Complete Linkage."
   ]
  },
  {
   "cell_type": "markdown",
   "metadata": {},
   "source": [
    "## Conclusão final"
   ]
  },
  {
   "cell_type": "markdown",
   "metadata": {},
   "source": [
    "Depois de aplicar os três métodos de encadeamento, determinamos que o número de clusters a ser considerado será 3 para o conjunto de dados sobre as notas dos estudantes."
   ]
  }
 ],
 "metadata": {
  "kernelspec": {
   "display_name": "base",
   "language": "python",
   "name": "python3"
  },
  "language_info": {
   "codemirror_mode": {
    "name": "ipython",
    "version": 3
   },
   "file_extension": ".py",
   "mimetype": "text/x-python",
   "name": "python",
   "nbconvert_exporter": "python",
   "pygments_lexer": "ipython3",
   "version": "3.12.7"
  }
 },
 "nbformat": 4,
 "nbformat_minor": 2
}
